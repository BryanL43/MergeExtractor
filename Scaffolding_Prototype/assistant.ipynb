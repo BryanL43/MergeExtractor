{
 "cells": [
  {
   "cell_type": "code",
   "execution_count": 3,
   "metadata": {},
   "outputs": [
    {
     "name": "stdout",
     "output_type": "stream",
     "text": [
      "\n",
      "\n",
      "In terms of who initiated the merger/deal first, it appears that Intel representatives were the first to express an interest in acquiring the entire company, beginning with discussions around the acquisition of the Company's PC Card businesses and leading to the exploration of the full acquisition of the Company【4:4†source】.\n"
     ]
    },
    {
     "data": {
      "text/plain": [
       "AssistantDeleted(id='asst_vMLtG03v81EDYpMKHavI7HmD', deleted=True, object='assistant.deleted')"
      ]
     },
     "execution_count": 3,
     "metadata": {},
     "output_type": "execute_result"
    }
   ],
   "source": [
    "from openai import OpenAI\n",
    "from dotenv import load_dotenv\n",
    "import os\n",
    "\n",
    "load_dotenv();\n",
    "client = OpenAI(api_key=os.getenv(\"OPENAI_API_KEY\"));\n",
    "\n",
    "prompt = (\n",
    "    \"Extract the 'Background of the Merger'\"\n",
    "    \"(which could be phrased differently, such as 'Background of the Transaction', 'Background of the Acquisition', or 'Background of the Offer', and so on),\"\n",
    "    \"which is the chronological timeline of events leading to the two companies' merger.\"\n",
    "    \"With that extracted section, could you tell me who initiated the merger/deal first.\"\n",
    ");\n",
    "\n",
    "assistant = client.beta.assistants.create(\n",
    "    name=\"Document Assistant\",\n",
    "    instructions=\"You are an expert at identifying and extracting a section from a given text file. You are to locate the desired section and return its entire contents. Please give me the section exactly as it is without summarizing, paraphrasing, or changing anything. Ensure that you have acquired everything within the section by verifying any additional amendments. If you cannot find the section, simply return 'None'.\",\n",
    "    model=\"gpt-4o-mini\",\n",
    "    tools=[{\"type\": \"file_search\"}]\n",
    "    # temperature=0.2,\n",
    "    # top_p = 1.00\n",
    ");\n",
    "\n",
    "filePath = \"../DataSet/Xircom_Inc_&_Intel_Corp.txt\";\n",
    "\n",
    "messageFile = client.files.create(\n",
    "    file=open(filePath, \"rb\"),\n",
    "    purpose=\"assistants\"\n",
    ");\n",
    "\n",
    "thread = client.beta.threads.create(\n",
    "    messages = [\n",
    "        {\n",
    "            \"role\": \"user\",\n",
    "            \"content\": prompt,\n",
    "            \"attachments\": [\n",
    "                {\n",
    "                    \"file_id\": messageFile.id,\n",
    "                    \"tools\": [{\"type\": \"file_search\"}]\n",
    "                },\n",
    "            ]\n",
    "        }\n",
    "    ]\n",
    ");\n",
    "\n",
    "run = client.beta.threads.runs.create_and_poll(\n",
    "    thread_id=thread.id, assistant_id=assistant.id\n",
    ")\n",
    "\n",
    "messages = list(client.beta.threads.messages.list(thread_id=thread.id, run_id=run.id))\n",
    "\n",
    "if run.status == \"completed\":\n",
    "    print(messages[0].content[0].text.value.split(\"---\")[1]);\n",
    "else:\n",
    "    print(f\"Run failed with status: {run.status}\")\n",
    "\n",
    "client.files.delete(messageFile.id)\n",
    "client.beta.threads.delete(thread_id=thread.id)\n",
    "\n",
    "# Since we are using thread directly, the vector is created automatically.\n",
    "# So we will just clear it out.\n",
    "vectorStores = client.beta.vector_stores.list()\n",
    "for vector in vectorStores.data:\n",
    "    client.beta.vector_stores.delete(vector_store_id=str(vector.id))\n",
    "\n",
    "client.beta.assistants.delete(assistant.id)\n"
   ]
  }
 ],
 "metadata": {
  "kernelspec": {
   "display_name": "MergeExtractorEnv",
   "language": "python",
   "name": "python3"
  },
  "language_info": {
   "codemirror_mode": {
    "name": "ipython",
    "version": 3
   },
   "file_extension": ".py",
   "mimetype": "text/x-python",
   "name": "python",
   "nbconvert_exporter": "python",
   "pygments_lexer": "ipython3",
   "version": "3.12.8"
  }
 },
 "nbformat": 4,
 "nbformat_minor": 2
}
