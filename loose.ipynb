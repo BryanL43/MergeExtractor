{
 "cells": [
  {
   "cell_type": "code",
   "execution_count": null,
   "metadata": {},
   "outputs": [
    {
     "name": "stdout",
     "output_type": "stream",
     "text": [
      "Found 'prime' in the document.\n",
      "Found 'chordiant' in the document.\n"
     ]
    }
   ],
   "source": [
    "import re\n",
    "from bs4 import BeautifulSoup\n",
    "import requests\n",
    "import sys\n",
    "\n",
    "def loadFileFromURL(url):\n",
    "    # Create a request that mimics browser activity\n",
    "    headers = {\n",
    "        \"User-Agent\": \"Mozilla/5.0 (Windows NT 10.0; Win64; x64) AppleWebKit/537.36 (KHTML, like Gecko) Chrome/131.0.0.0 Safari/537.36\",\n",
    "        \"Accept-Language\": \"en-US,en;q=0.9\"\n",
    "    }\n",
    "\n",
    "    response = requests.get(url, headers=headers);\n",
    "    if (response.status_code == 200):\n",
    "        return response.text;\n",
    "    else:\n",
    "        print(\"FATAL: Failed to load document via url.\");\n",
    "        sys.exit(response.status_code);\n",
    "\n",
    "def preProcessText(content):\n",
    "    soup = BeautifulSoup(content, \"html.parser\");\n",
    "    text = soup.get_text(separator=\"\");\n",
    "\n",
    "    # Remove standalone page numbers\n",
    "    pageNumPattern = re.compile(r'^\\s*\\d+\\s*$', re.MULTILINE);\n",
    "    text = re.sub(pageNumPattern, '', text);\n",
    "\n",
    "    # Remove extra newline characters\n",
    "    text = re.sub(r'\\n\\s*\\n+', '\\n\\n', text);\n",
    "\n",
    "    return text.strip();\n",
    "\n",
    "def extractFirstWord(companyName):\n",
    "    clean_name = re.sub(r\"\\(.*?\\)\", \"\", companyName);  # Remove parentheses content\n",
    "    return clean_name.split()[0];\n",
    "\n",
    "companyNames = [\"Prime Response Inc\", \"Chordiant Software Inc\"];\n",
    "companyNames = [extractFirstWord(name).lower() for name in companyNames];\n",
    "\n",
    "url = \"https://www.sec.gov/Archives/edgar/data/0001042134/000101287001000359/0001012870-01-000359.txt\";\n",
    "\n",
    "# Load and preprocess the text\n",
    "rawText = loadFileFromURL(url);\n",
    "cleanedText = preProcessText(rawText);\n",
    "lowerText = cleanedText.lower();\n",
    "\n",
    "# Check for the presence of company names\n",
    "for name in companyNames:\n",
    "    if name in lowerText:\n",
    "        print(f\"Found '{name}' in the document.\");\n",
    "    else:\n",
    "        print(f\"'{name}' is missing in the document.\");"
   ]
  }
 ],
 "metadata": {
  "kernelspec": {
   "display_name": "MergeExtractor",
   "language": "python",
   "name": "python3"
  },
  "language_info": {
   "codemirror_mode": {
    "name": "ipython",
    "version": 3
   },
   "file_extension": ".py",
   "mimetype": "text/x-python",
   "name": "python",
   "nbconvert_exporter": "python",
   "pygments_lexer": "ipython3",
   "version": "3.12.8"
  }
 },
 "nbformat": 4,
 "nbformat_minor": 2
}
